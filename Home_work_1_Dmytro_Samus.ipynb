{
  "nbformat": 4,
  "nbformat_minor": 0,
  "metadata": {
    "colab": {
      "provenance": [],
      "include_colab_link": true
    },
    "kernelspec": {
      "name": "python3",
      "display_name": "Python 3"
    },
    "language_info": {
      "name": "python"
    }
  },
  "cells": [
    {
      "cell_type": "markdown",
      "metadata": {
        "id": "view-in-github",
        "colab_type": "text"
      },
      "source": [
        "<a href=\"https://colab.research.google.com/github/samusdimitriy/Colaboratory/blob/main/Home_work_1_Dmytro_Samus.ipynb\" target=\"_parent\"><img src=\"https://colab.research.google.com/assets/colab-badge.svg\" alt=\"Open In Colab\"/></a>"
      ]
    },
    {
      "cell_type": "markdown",
      "source": [
        "# Нагадування по Markdown"
      ],
      "metadata": {
        "id": "mbmam7xBKWRj"
      }
    },
    {
      "cell_type": "markdown",
      "source": [
        "Надаємо невелике нагадування записів в\n",
        "[Markdown](https://colab.research.google.com/notebooks/markdown_guide.ipynb) (LaTeX):\n",
        "\n",
        "Markdown | Preview\n",
        "--- | ---\n",
        "`**bold text**` | **bold text**\n",
        " \\\\$\\frac{x}{y}\\\\$ | $\\frac{x}{y}$\n",
        " \\\\$p^{x}_{y}\\\\$ | $p^{x}_{y}$\n",
        "\\\\$x \\cdot y\\\\$ | $x \\cdot y$\n",
        "\\\\$\\sqrt{x}\\\\$ | $\\sqrt{x}$\n",
        "\\\\$\\pi\\\\$ | $\\pi$\n",
        "\\\\$\\approx\\\\$ | $\\approx$\n",
        "\n",
        "І ще декілька прикладів:\n",
        "\n",
        "```markdown\n",
        "$y=x^2$\n",
        "\n",
        "$e^{i\\pi} + 1 = 0$\n",
        "\n",
        "$e^x=\\sum_{i=0}^\\infty \\frac{1}{i!}x^i$\n",
        "\n",
        "$\\frac{n!}{k!(n-k)!} = {n \\choose k}$\n",
        "\n",
        "$A_{m,n} =\n",
        " \\begin{pmatrix}\n",
        "  a_{1,1} & a_{1,2} & \\cdots & a_{1,n} \\\\\n",
        "  a_{2,1} & a_{2,2} & \\cdots & a_{2,n} \\\\\n",
        "  \\vdots  & \\vdots  & \\ddots & \\vdots  \\\\\n",
        "  a_{m,1} & a_{m,2} & \\cdots & a_{m,n}\n",
        " \\end{pmatrix}$\n",
        "\n",
        " $$\n",
        " I =\n",
        " \\left (\\begin{array}{cc}\n",
        " 1 & 0\\\\\n",
        " 0 & 1\n",
        " \\end{array}\\right)\n",
        " $$\n",
        "```\n",
        "\n",
        "$y=x^2$\n",
        "\n",
        "$e^{i\\pi} + 1 = 0$\n",
        "\n",
        "$e^x=\\sum_{i=0}^\\infty \\frac{1}{i!}x^i$\n",
        "\n",
        "$\\frac{n!}{k!(n-k)!} = {n \\choose k}$\n",
        "\n",
        "$A_{m,n} =\n",
        " \\begin{pmatrix}\n",
        "  a_{1,1} & a_{1,2} & \\cdots & a_{1,n} \\\\\n",
        "  a_{2,1} & a_{2,2} & \\cdots & a_{2,n} \\\\\n",
        "  \\vdots  & \\vdots  & \\ddots & \\vdots  \\\\\n",
        "  a_{m,1} & a_{m,2} & \\cdots & a_{m,n}\n",
        " \\end{pmatrix}$\n",
        "\n",
        "$I =\n",
        "\\left (\\begin{array}{cc}\n",
        "1 & 0\\\\\n",
        "0 & 1\n",
        "\\end{array}\\right)$\n",
        " ---"
      ],
      "metadata": {
        "id": "WKbf0DcrKYHi"
      }
    },
    {
      "cell_type": "markdown",
      "source": [
        "# Завдання 1.\n",
        "В шаблоні наведені числові вектори $\\overline{a}$ та $\\overline{b}$. Порахуй наступне:\n",
        "- сума $\\overline{a}$ та $\\overline{b}$\n",
        "- різниця $\\overline{a}$ та $\\overline{b}$\n",
        "- сума $\\overline{a}$ та $\\overline{b}^T$. Поясни отриманий результат.\n",
        "- матричний добуток (dot product) $\\overline{a}$ та $\\overline{b}^T$.\n",
        "- матричний добуток (dot product) $\\overline{a}$ та $\\overline{b}$. Поясни отриманий результат.\n",
        "- добуток Адамара (Hadamard product) $\\overline{a}$ та $\\overline{b}$. Поясни отриманий результат.\n",
        "- ділення $\\overline{a}$ та $\\overline{b}$. Поясни отриманий результат.\n",
        "- ділення $\\overline{a}$ та $\\overline{b}^T$. Поясни отриманий результат."
      ],
      "metadata": {
        "id": "AQsl6FeF0Sq3"
      }
    },
    {
      "cell_type": "code",
      "source": [
        "import numpy as np\n",
        "a = np.array([[1, 2, 3, 4, 5]])\n",
        "b = np.array([[1/2, 1, 2, 3, 4]])\n",
        "res = a + b\n",
        "print(res)"
      ],
      "metadata": {
        "id": "-TcDgKRB0n-s"
      },
      "execution_count": null,
      "outputs": []
    },
    {
      "cell_type": "code",
      "source": [
        "import numpy as np\n",
        "a = np.array([[1, 2, 3, 4, 5]])\n",
        "b = np.array([[1/2, 1, 2, 3, 4]])\n",
        "res = a - b\n",
        "print(res)"
      ],
      "metadata": {
        "id": "CcIk7MVQ1xgq"
      },
      "execution_count": null,
      "outputs": []
    },
    {
      "cell_type": "code",
      "source": [
        "# Пояснення: Транспонирование вектора b, чтобы он стал вертикальным. После транспонирования вектор становится вертикальным одномерным массивом\n",
        "import numpy as np\n",
        "a = np.array([[1, 2, 3, 4, 5]])\n",
        "b = np.array([[1/2, 1, 2, 3, 4]])\n",
        "b_T = b.T\n",
        "res = a + b_T\n",
        "print(res)"
      ],
      "metadata": {
        "id": "exb6q60N0uFv"
      },
      "execution_count": null,
      "outputs": []
    },
    {
      "cell_type": "code",
      "source": [
        "import numpy as np\n",
        "a = np.array([[1, 2, 3, 4, 5]])\n",
        "b = np.array([[1/2, 1, 2, 3, 4]])\n",
        "b_T = b.T\n",
        "dot_res = np.dot(a, b_T)\n",
        "print(dot_res)"
      ],
      "metadata": {
        "id": "oZB7Kx5_1c29",
        "colab": {
          "base_uri": "https://localhost:8080/"
        },
        "outputId": "270ac0b3-36d2-4649-8a83-bcb1ca53a540"
      },
      "execution_count": 7,
      "outputs": [
        {
          "output_type": "stream",
          "name": "stdout",
          "text": [
            "[[40.5]]\n"
          ]
        }
      ]
    },
    {
      "cell_type": "code",
      "source": [
        "# Пояснення: Для вычисления матричного произведения нужно транспонировать один из векторов, чтобы их размерности были согласованы. Поэтому код выдаст ошибку.\n",
        "import numpy as np\n",
        "a = np.array([[1, 2, 3, 4, 5]])\n",
        "b = np.array([[1/2, 1, 2, 3, 4]])\n",
        "dot_product = np.dot(a, b)\n",
        "#b_transposed = b.T\n",
        "#dot_product = np.dot(a, b_transposed)\n",
        "\n",
        "print(dot_product)"
      ],
      "metadata": {
        "id": "PbRyd3630xud",
        "colab": {
          "base_uri": "https://localhost:8080/"
        },
        "outputId": "1c905353-9828-496d-b1c8-a97c1aa5b44f"
      },
      "execution_count": 14,
      "outputs": [
        {
          "output_type": "stream",
          "name": "stdout",
          "text": [
            "[[1 2 3 4 5]]\n",
            "[[0.5]\n",
            " [1. ]\n",
            " [2. ]\n",
            " [3. ]\n",
            " [4. ]]\n",
            "[[40.5]]\n"
          ]
        }
      ]
    },
    {
      "cell_type": "code",
      "source": [
        "# Пояснення: Это операция, при которой каждые соответствующие элементы векторов умножаются друг на друга.\n",
        "import numpy as np\n",
        "\n",
        "a = np.array([[1, 2, 3, 4, 5]])\n",
        "b = np.array([[1/2, 1, 2, 3, 4]])\n",
        "\n",
        "res = a * b\n",
        "print(res)"
      ],
      "metadata": {
        "id": "QPHTXr83ly7o",
        "colab": {
          "base_uri": "https://localhost:8080/"
        },
        "outputId": "dd3496ca-1897-4ba8-ce6f-0322386ce9b7"
      },
      "execution_count": 16,
      "outputs": [
        {
          "output_type": "stream",
          "name": "stdout",
          "text": [
            "[[ 0.5  2.   6.  12.  20. ]]\n"
          ]
        }
      ]
    },
    {
      "cell_type": "code",
      "source": [
        "# Пояснення:  Каждый элемент из вектора a был поделен на соответствующий элемент из вектора b.\n",
        "import numpy as np\n",
        "a = np.array([[1, 2, 3, 4, 5]])\n",
        "b = np.array([[1/2, 1, 2, 3, 4]])\n",
        "res = a / b\n",
        "print(res)"
      ],
      "metadata": {
        "id": "9mAIEbkQ1pJH",
        "colab": {
          "base_uri": "https://localhost:8080/"
        },
        "outputId": "34004b5d-c412-40d7-bd6e-ff016cd396bf"
      },
      "execution_count": 17,
      "outputs": [
        {
          "output_type": "stream",
          "name": "stdout",
          "text": [
            "[[2.         2.         1.5        1.33333333 1.25      ]]\n"
          ]
        }
      ]
    },
    {
      "cell_type": "code",
      "source": [
        "# Пояснення: каждый элемент вектора a делится на соответствующий элемент транспонированного вектора b_T. Это делается для того, чтобы вектор b_T имел ту же форму, что и вектор a (т.е., одну строку и пять столбцов), и чтобы операция деления прошла корректно.\n",
        "import numpy as np\n",
        "a = np.array([[1, 2, 3, 4, 5]])\n",
        "b = np.array([[1/2, 1, 2, 3, 4]])\n",
        "b_T = b.T\n",
        "res = a / b_T\n",
        "print(res)"
      ],
      "metadata": {
        "id": "pozfWRdc1qF9",
        "colab": {
          "base_uri": "https://localhost:8080/"
        },
        "outputId": "e7d45e68-d789-443e-f78a-f011b45a9026"
      },
      "execution_count": 18,
      "outputs": [
        {
          "output_type": "stream",
          "name": "stdout",
          "text": [
            "[[ 2.          4.          6.          8.         10.        ]\n",
            " [ 1.          2.          3.          4.          5.        ]\n",
            " [ 0.5         1.          1.5         2.          2.5       ]\n",
            " [ 0.33333333  0.66666667  1.          1.33333333  1.66666667]\n",
            " [ 0.25        0.5         0.75        1.          1.25      ]]\n"
          ]
        }
      ]
    },
    {
      "cell_type": "markdown",
      "source": [
        "# Завдання 2\n",
        "В цьому завданні ти навчишся перетворювати вектори за допомогою афінних перетворень.  \n",
        "Дано вектор:\n",
        "$$\n",
        "x =\n",
        "\\left(\\begin{array}{cc}\n",
        "2\\\\\n",
        "1\n",
        "\\end{array}\\right)\n",
        "$$\n",
        "\n",
        "\n",
        "Виконай аналітично наступні завдання задавши матрицю перетворення та застосуй її до вектора $x$:\n",
        "\n",
        "1. Зменши вектор $x$ в 2 рази по вісі $OX$ та збільш в 3 рази по вісі $OY$.\n",
        "2. Відобрази вектор $x$ відносно початку координат.\n",
        "3. Перенеси вектор $x$ на -3 по вісі $OX$ та на 1 по вісі $OY$.\n",
        "4. Змісти вектор $x$ на 60° по вісі $OY$.\n",
        "5. Поверни вектор $x$ на 30°.\n",
        "6. Об'єднай перетворення з кроків 1, 2, 4, 5 в одну матрицю та застосуй її до вектору $x$."
      ],
      "metadata": {
        "id": "W-FFJ2oK0TTF"
      }
    },
    {
      "cell_type": "markdown",
      "source": [],
      "metadata": {
        "id": "coRcpu8kgMqh"
      }
    },
    {
      "cell_type": "code",
      "source": [],
      "metadata": {
        "id": "NhYlCGrOa0Aa"
      },
      "execution_count": null,
      "outputs": []
    },
    {
      "cell_type": "markdown",
      "source": [
        "#### 2.1 Зменши вектор  $x$  в 2 рази по вісі  OX  та збільш в 3 рази по вісі  OY ."
      ],
      "metadata": {
        "id": "6G4BWKMB33NV"
      }
    },
    {
      "cell_type": "markdown",
      "source": [
        "$$\n",
        "M_1 =\n",
        "\\left (\\begin{array}{cc}\n",
        "\\frac{1}{2} & 0\\\\\n",
        "0 & 3\n",
        "\\end{array}\\right)\n",
        "$$\n",
        "\n",
        "$$\n",
        "M_1x =\n",
        "\\left (\\begin{array}{cc}\n",
        "\\frac{1}{2} & 0\\\\\n",
        "0 & 3\n",
        "\\end{array}\\right)\n",
        "\\left (\\begin{array}{cc}\n",
        "2\\\\\n",
        "1\n",
        "\\end{array}\\right)=\n",
        "\\left(\\begin{array}{cc}\n",
        "\\frac{1}{2} \\cdot 2 + 0 \\cdot 1\\\\\n",
        "0 \\cdot 2 + 3 \\cdot 1\n",
        "\\end{array}\\right)=\n",
        "\\left(\\begin{array}{cc}\n",
        "1+0\\\\\n",
        "0+3\n",
        "\\end{array}\\right) =\n",
        "\\left (\\begin{array}{cc}\n",
        "1\\\\\n",
        "3\n",
        "\\end{array}\\right)\n",
        "$$"
      ],
      "metadata": {
        "id": "_BvcoZCyg8nk"
      }
    },
    {
      "cell_type": "markdown",
      "source": [
        "#### 2.2 Відобрази вектор $x$ відносно початку координат."
      ],
      "metadata": {
        "id": "Rlhpc8-24M9k"
      }
    },
    {
      "cell_type": "markdown",
      "source": [
        "$$\n",
        "M_2 =\n",
        "\\left (\\begin{array}{cc}\n",
        "-1 & 0\\\\\n",
        "0 & -1\n",
        "\\end{array}\\right)\n",
        "\\\\\n",
        "M_2x =\n",
        "\\left (\\begin{array}{cc}\n",
        "-1 & 0\\\\\n",
        "0 & -1\n",
        "\\end{array}\\right)\n",
        "\\left (\\begin{array}{cc}\n",
        "2\\\\\n",
        "1\n",
        "\\end{array}\\right)=\n",
        "\\left(\\begin{array}{cc}\n",
        "-1 \\cdot 2 + 0 \\cdot 1\\\\\n",
        "0 \\cdot 2 + 1 \\cdot -1\n",
        "\\end{array}\\right) =\n",
        "\\left (\\begin{array}{cc}\n",
        "-2\\\\\n",
        "-1\n",
        "\\end{array}\\right)\n",
        "$$"
      ],
      "metadata": {
        "id": "35Ld0CHYgsXY"
      }
    },
    {
      "cell_type": "markdown",
      "source": [
        "#### 2.3 Перенеси вектор $x$ на -3 по вісі $OX$ та на 1 по вісі $OY$."
      ],
      "metadata": {
        "id": "V5AiNUx14MvZ"
      }
    },
    {
      "cell_type": "markdown",
      "source": [
        "$$\n",
        "M_3 =\n",
        "\\left (\\begin{array}{cc}\n",
        "1 & 0 & -3\\\\\n",
        "0 & 1 & 1\\\\\n",
        "0 & 0 & 1\\\\\n",
        "\\end{array}\\right)\n",
        "\\\\\n",
        "\\\\\n",
        "M_3x =\n",
        "\\left (\\begin{array}{cc}\n",
        "1 & 0 & -3\\\\\n",
        "0 & 1 & 1\\\\\n",
        "0 & 0 & 1\\\\\n",
        "\\end{array}\\right)\n",
        "\\left (\\begin{array}{cc}\n",
        "2\\\\\n",
        "1\\\\\n",
        "1\n",
        "\\end{array}\\right) =\n",
        "\\left (\\begin{array}{cc}\n",
        "-2\\\\\n",
        "2\\\\\n",
        "1\n",
        "\\end{array}\\right)\n",
        "$$"
      ],
      "metadata": {
        "id": "qtzBmsNcgpQA"
      }
    },
    {
      "cell_type": "markdown",
      "source": [
        "#### 2.4 Змісти вектор $a$ на 60° по вісі $OY$.\n"
      ],
      "metadata": {
        "id": "VfjTQ4li9Neq"
      }
    },
    {
      "cell_type": "markdown",
      "source": [
        "$$\n",
        "M_4 = \\begin{bmatrix} \\frac{1}{2} & -\\frac{\\sqrt{3}}{2} \\\\ \\frac{\\sqrt{3}}{2} & \\frac{1}{2} \\end{bmatrix}\n",
        "\\\\\n",
        "M_4x  = \\left( \\begin{array}{c}\n",
        "\\frac{1}{2} \\times 2 + (-\\frac{\\sqrt{3}}{2}) \\times 1 \\\\\n",
        "\\frac{\\sqrt{3}}{2} \\times 2 + \\frac{1}{2} \\times 1\n",
        "\\end{array} \\right) =\n",
        "\\begin{pmatrix} 1 - \\frac{\\sqrt{3}}{2} \\\\ \\sqrt{3} + \\frac{1}{2} \\end{pmatrix}\n",
        "$$"
      ],
      "metadata": {
        "id": "1-0_aTZiglze"
      }
    },
    {
      "cell_type": "markdown",
      "source": [
        "#### 2.5 Поверни вектор $a$ на 30°."
      ],
      "metadata": {
        "id": "F5dbVgGr9RCD"
      }
    },
    {
      "cell_type": "markdown",
      "source": [
        "$$\n",
        "M_5 = \\begin{bmatrix} \\cos\\left(\\frac{\\pi}{6}\\right) & -\\sin\\left(\\frac{\\pi}{6}\\right) \\\\ \\sin\\left(\\frac{\\pi}{6}\\right) & \\cos\\left(\\frac{\\pi}{6}\\right) \\end{bmatrix}\n",
        "\\\\\n",
        "\\\\\n",
        "M_5x = \\begin{pmatrix} \\frac{\\sqrt{3}}{2} \\times 2 + (-\\frac{1}{2}) \\times 1 \\\\ \\frac{1}{2} \\times 2 + \\frac{\\sqrt{3}}{2} \\times 1 \\end{pmatrix} =\n",
        "\\begin{pmatrix} \\sqrt{3} - \\frac{1}{2} \\\\ 1 + \\frac{\\sqrt{3}}{2} \\end{pmatrix}\n",
        "$$"
      ],
      "metadata": {
        "id": "ABCk4cPhg2Zp"
      }
    },
    {
      "cell_type": "markdown",
      "source": [
        "#### 2.6 Об'єднай перетворення з кроків 1, 2, 4, 5 в одну матрицю та застосуй її до вектору $x$"
      ],
      "metadata": {
        "id": "nXJQVzee9RTp"
      }
    },
    {
      "cell_type": "markdown",
      "source": [
        "$$\n",
        "M_6 = M_5 \\cdot M_4 \\cdot M_2 \\cdot M_1 = ?\n",
        "$$"
      ],
      "metadata": {
        "id": "NzEYWaaZHUGm"
      }
    },
    {
      "cell_type": "markdown",
      "source": [
        "$$\n",
        "M_6 =\n",
        "\\begin{pmatrix} \\sqrt{3} - \\frac{1}{2} \\\\ 1 + \\frac{\\sqrt{3}}{2} \\end{pmatrix} ⋅\n",
        "\\begin{pmatrix} 1 - \\frac{\\sqrt{3}}{2} \\\\ \\sqrt{3} + \\frac{1}{2} \\end{pmatrix} ⋅\n",
        "\\left (\\begin{array}{cc}\n",
        "-2\\\\\n",
        "-1\n",
        "\\end{array}\\right) ⋅\n",
        "\\left (\\begin{array}{cc}\n",
        "1\\\\\n",
        "3\n",
        "\\end{array}\\right)\n",
        "\\\\\n",
        "M_6 = 2\\sqrt{3} - \\frac{7}{2}\n",
        "$$"
      ],
      "metadata": {
        "id": "483K8PxWY0Na"
      }
    },
    {
      "cell_type": "markdown",
      "source": [
        "# Завдання 2 (Альтернативне)"
      ],
      "metadata": {
        "id": "4Hskh6fFb89N"
      }
    },
    {
      "cell_type": "code",
      "source": [
        "import cv2 as cv\n",
        "import urllib\n",
        "import numpy as np\n",
        "from google.colab.patches import cv2_imshow as cv_imshow\n",
        "\n",
        "# Read an image\n",
        "def read_image_by_url(url):\n",
        "    req = urllib.request.urlopen(url)\n",
        "    arr = np.asarray(bytearray(req.read()), dtype=np.uint8)\n",
        "    img = cv.imdecode(arr, -1)\n",
        "    return img\n",
        "\n",
        "url = 'data:image/jpeg;base64,/9j/4AAQSkZJRgABAQAAAQABAAD/2wCEAAkGBw4TDxEOERAPDw4SEhAODQ0QDhAQEhAQFBIZFhgWHxMZHTQhGBsoHBYYLT0iKCkrLjE6Fx8zODMsNzQtLisBCgoKBQUFDgUFDisZExkrKysrKysrKysrKysrKysrKysrKysrKysrKysrKysrKysrKysrKysrKysrKysrKysrK//AABEIAMgAyAMBIgACEQEDEQH/xAAcAAEAAgIDAQAAAAAAAAAAAAAABQgGBwEDBAL/xABMEAACAQICBAgHDQQJBQAAAAAAAQIDBAURBhITIQcxQVFhdIGzFCIyNHGCkQgXIyU1QlJVkqGxsvBywdHSFjNTVGNkc5SiFSRig5P/xAAUAQEAAAAAAAAAAAAAAAAAAAAA/8QAFBEBAAAAAAAAAAAAAAAAAAAAAP/aAAwDAQACEQMRAD8A0aAAAAAAAAAAAAAAAAAAAAAAAAAAAAAAAAAAAAAAAAAAAAAAAAAAAAAAAAAAAAAAAAAAAAAAAAAAAAAAAAAAAAAAAAAAAAAAAAAAAAAAAAAAPvZS+i/YxspfRl7GXN0Y8xtOrW/dRJMCj7py5muxnwW/4R/kfEOrVfylQAB3K2qfQn6dVmScG+jDxDEaVu09hH4W6lzUo8az528l6xbanBJKKSSSSSXEktwFJfBan9nP7Eg7epxuE0ufVZd0hNNl8WXvVq/5GBTcAybg80aliGIUbXJ7LPaXMl82lHe/bxdoGPq2qcahNrn1WPBan9nP7Ei7NKnGMVCKUYxSjGK3JJLJI7AKQu3qLe4TS59VnUXJ00+Tb3q1fu2U3YHAOUbL0B4JLq9jG4uJStLN5OD1U6tZf+MX5K6X7GBrTI7qVrVl5NOcv2YSl+BbTR/g/wAJs0tjaU5TXHWqra1G+fWlxdmRk0UksluXMBSSra1I+VCcP2ouP4nVkXglFNZNZp8aZiukHB3hF2ntbWnCo+KtRWxmnz5x3PtTAqQDOeE/QH/pdWnq3Ea1KtrukmtWrFRyzzjxNeMt/wBxgwAAAAABdDRnzG06tb91EkyM0Z8xtOrW/dRJMDG+Ef5HxDq1X8pUEt3wlS+KL9f5ar+UrjwYaLvEMRpUZLO3h8NdPk2cfm+s8l2gbs4D9FvBMPVzUjlc3erVlnxxpLPZx9jz9boNknzGKSyW5LckfQAhNNvky96tX/IybILTmWWGXvVq35GBTpFleArRXwWw8MqRyuLvKe9b4UIt6i7c8+1cxpPg30YeIYjSt2nsIva3MualHe16W8l6xbaEEkopJJJJJLckgPsAAQumvyZe9Wr92ym5cTTiWWG3vVq35GVd0C0ZniF/StFmqbevcTXzKMfKf7l0tAZ/wK8HUbjLE7yGtbpvwSjJbqslxza5Ypri5X99gEjps7WnSpwpU4qFOEVCnBblGKWSR3gAROkOkNpZUXcXVWNKnxRzzcpvmjFb5M1JjPD7lJxtbJOK4qtxVacv/XFbvtAbxPic0k5N5JJtt8SSNDWPD9cqXw9jRnDl2VWdOS+1nme7hA4WrS4wqVKzlUjc3D2NWnOLjKjS45PPiefFufKwNacJOk7xDEatwm9hH4K2jzUo7k+15v1jFQAAAAAAC6GjPmNp1a37qJJNkboz5jadWt+6iey5qZIDEuE2v8V3q/wKi+4j+BTRXwPDlWnHK5u9WtVz4401ns4+x5+sTVzZxupu3mtai18NHnjzdplKQHIAAGN6fz+Lrtf5et+RmSETidnGu3Qms6Uk1VXPB7mu0DDOA/RbwTD1c1I5XN3q1ZZ8caSz2cfY8/W6DZJ8xikkksktyXMfQA4bOTpuKmSAxrT6v8X3a/wKy/4MxzgK0V8FsPDKkcri71Z71vhQi3qLtzz7UZJe2qupO2lm6c01W4/Ia3rPp4jJ6cFFKKSSSSilxJLoA+zx4tiFK3oVbmq9WlShKpUfRFZ+09hrXh+vZQwd04vLbV6VOfTFZzy9sUBoXTPSm4xG6nc1m0t6oUc/Fo0+SKX4vlIAAAD7pwbaik3JtKKXG2yY/olin9xu/wDb1P4AQgJr+iWKf3G7/wBvU/gRNWnKMnCScZRbjKLWTUluaa5wOsAAAABdDRp/9jadWt+6idOK3OSYwOplYWnVrfuonkpU9tXUXvhHxp9nEgJLBLXUp6z8ufjS6FyL2EkAB5MTv6dCjUuKstWlShKpUlzRisxhN5trejXy1drTp1dXPPLXipZZ9pqH3QulOrTp4VTl41TKtd5ckIvOnHtks/VRtPRT5Ps+rW/dRAlZM6qFPLN8r3nbJHIA89/eU6NKpXqyUaVOMqlST5IxWbPQab90HpTs6FPC6cvHrfC3WT4qMZZxj60ln6nSBtbBr7b21G5y1VVpwqqL5FJa2R5sUuckzzaJ1MsLsurUO7R16m2rKn81eNN9Cf69oHvwK21YbR+XUyfojyfrpJU4SOQBr/hwwqVfBq0oJudCdO4yXLGL1ZeyMm/VNgHXWpRlFwklKMk4yi1mnFrJpoCkORwZ/wAJ/B3Ww+tKtSjKph85Z0qqWeyz+ZLm49z5TAWB7sB87tv9ej3iLqFK8B87tv8AXo94i6gApfpP5/edZuO9kXQKX6T+f3nWbjvZARgAAAAC29hc5WFr1ah3USbwW01Keb8ufjS/cv1zmO6LUtrStFxwhb0JT7KayX65jM0APFjGI0re3q3NV6tKlB1JvoX7z2mkvdC6VZRp4TTlvllXu8uZPOnD27+xAac0jxmreXda8q/1lWbm19GOWUY+hJJdhbvRT5Ps+rW/dRKYlztFPk+z6tb91ECVAAHkxO/pUKNS4qy1aVKEqlSXNGKz9pT3SjG6l7eV7yp5VWeso5+RFbox7IpLsNye6F0p1adPCqcvGqZVrvLkgnnTj2tZ+qjQoFssBucsLs+rUO7RPYHa6tPXfl1PGfRHkX3/AHmL6HUtra2VP5kbejKfoUFuM6QHJ57+8p0aU69SSjSpxlUqSfJGKzbPQad90HpVs6EMLpy8evlVucvm0YyzjH1pL/h0gbQ0fxmheW1O7oS1qVRZxfKmtzi1yNP8CSKpcGun9fDKzTTq2dRrb0M96fFrxfJL8SzWBY5a3lGNxbVY1aUuVccXzOL3xfQwPfWpxlFxklKLTUoySaafI0+MwTGeCDBK8nNUZ283vboVHGLf7DzS7MjPwBq+04EcLp1IVY1rtyhOM0nOGWcXn9HoNoAACmGk/n951m472RbDTjSKFhYVryWTlFatGD+fVluivbv9CZUC4rSnOVSbcpzk5zk+WUnm2B1AAAAALP6I6bYLQsqEJ39tGrsqW1Tk81JQSy4uQmffHwL6wt/tS/gVIzOALZXfCZgcKc5q+oVHGMpKnBtym0s8lu4yruP4rVurqtd1XnUrTdSXRyJehJJdhHgAWq0c09waFla0539tGcLehCcXPJxkqaTRVU5zAt174mB/WNr/APQ6rnhIwSMJT8Pt56sXLUjPOUslnklysqSc5gSWkeM1by7rXlX+sqzc2voxyyjH0JJLsIwACy+g2muDULC3hVvqEa2ypqrFuWcXGOWrxfreZB75WBfWFv7Z/wACpOZwBbSrwmYEouXh9GWSb1Y67by5Est7KxaUY3UvbyveVPKqybUc/Igt0Y9iSREAASuAaQXlnV21rWnRnuUssnGaXI4vdLtIoAbz0d4eVkoX1q8+WvbyWT9NKXF2Mzez4W8Amk/DNm+WFShXi126uX3lVQBbT3zsB+sKP2av8o987AfrCj9mr/KVLAGzeGzTalfV6VvbVFUs6C19pFNRq1ZpZvevmrd2s1kAAAAAAAAAAAAAAAAAAAAAAAAAAAAAAAAAAAAAAAAAAAAAAAAAAAAAAAAAAAAAAAAAAAAAAAAAAAAAAAAAAAAAAAAAAAAAAAAAAAAAAAAAAAAAAAAAAAAAAAAAAAAAAAAAAAAAAAAAAAAAAAf/2Q=='\n",
        "\n",
        "img = read_image_by_url(url)"
      ],
      "metadata": {
        "id": "T9X-m9XvdlPK"
      },
      "execution_count": 1,
      "outputs": []
    },
    {
      "cell_type": "code",
      "source": [
        "cv_imshow(img)"
      ],
      "metadata": {
        "id": "3oDsfgd25Rx7",
        "colab": {
          "base_uri": "https://localhost:8080/",
          "height": 217
        },
        "outputId": "d0fbfdeb-d37a-4bf5-9d8d-d604aa57e894"
      },
      "execution_count": 2,
      "outputs": [
        {
          "output_type": "display_data",
          "data": {
            "text/plain": [
              "<PIL.Image.Image image mode=RGB size=200x200>"
            ],
            "image/png": "[encoded data removed]"
          },
          "metadata": {}
        }
      ]
    },
    {
      "cell_type": "code",
      "source": [
        "angle = 30\n",
        "\n",
        "def rotate_image(image, angle_degrees, scale_x, scale_y):\n",
        "    # Определение размеров изображения\n",
        "    height, width = image.shape[:2]\n",
        "\n",
        "    # Преобразование угла в радианы\n",
        "    angle_radians = np.deg2rad(angle_degrees)\n",
        "\n",
        "    # Определение матрицы преобразования для поворота и масштабирования\n",
        "    rotation_matrix = cv.getRotationMatrix2D((width / 2, height / 2), angle_degrees, 1)\n",
        "    scaling_matrix = np.array([[scale_x, 0, 0], [0, scale_y, 0], [0, 0, 1]], dtype=np.float32)\n",
        "\n",
        "    # Поворот и масштабирование изображения\n",
        "    rotated_scaled_image = cv.warpAffine(image, rotation_matrix.dot(scaling_matrix), (width, height))\n",
        "\n",
        "    return rotated_scaled_image\n",
        "\n",
        "\n",
        "# Поворот изображения\n",
        "rotated_scaled_img = rotate_image(img, angle_degrees=30, scale_x=0.5, scale_y=0.33)\n",
        "\n",
        "# Отображение изображения до и после поворота\n",
        "cv_imshow(rotated_scaled_img)\n"
      ],
      "metadata": {
        "id": "XmpNfQZpira8",
        "colab": {
          "base_uri": "https://localhost:8080/",
          "height": 217
        },
        "outputId": "49dbdf8f-6200-429c-f2cb-7068b94ce71a"
      },
      "execution_count": 12,
      "outputs": [
        {
          "output_type": "display_data",
          "data": {
            "text/plain": [
              "<PIL.Image.Image image mode=RGB size=200x200>"
            ],
            "image/png": "[encoded data removed]"
          },
          "metadata": {}
        }
      ]
    }
  ]
}